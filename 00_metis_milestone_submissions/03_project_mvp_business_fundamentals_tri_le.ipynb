{
 "cells": [
  {
   "cell_type": "markdown",
   "id": "5262245a",
   "metadata": {},
   "source": [
    "TABLE OR CHART\n",
    "MOST SIMPLE WAY TO ADDRESS/SOLVE THE QUESTION/PROBLEM\n",
    "ROADBLOCKS, CHALLENGES\n",
    "SCOPING\n",
    "\n",
    "EXAMPLE:\n",
    "MTA DATA BUSY STATIONS\n",
    "HOW DOES THAT ANSWER YOUR QUESTION? FOOD TRUCK PLACEMENTS\n"
   ]
  }
 ],
 "metadata": {
  "kernelspec": {
   "display_name": "Python 3 (ipykernel)",
   "language": "python",
   "name": "python3"
  },
  "language_info": {
   "codemirror_mode": {
    "name": "ipython",
    "version": 3
   },
   "file_extension": ".py",
   "mimetype": "text/x-python",
   "name": "python",
   "nbconvert_exporter": "python",
   "pygments_lexer": "ipython3",
   "version": "3.9.7"
  }
 },
 "nbformat": 4,
 "nbformat_minor": 5
}
