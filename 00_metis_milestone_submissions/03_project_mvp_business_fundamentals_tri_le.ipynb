{
 "cells": [
  {
   "cell_type": "code",
   "execution_count": 11,
   "id": "2843b4ab",
   "metadata": {},
   "outputs": [],
   "source": [
    "import pandas as pd\n",
    "\n",
    "df_state = pd.read_csv(\"../Multiple Cause of Death, 1999-2020, by state and gender.txt\", sep=\"\\t\")\n",
    "df_age = pd.read_csv(\"../Multiple Cause of Death, 1999-2020, by age.txt\", sep=\"\\t\")"
   ]
  },
  {
   "cell_type": "code",
   "execution_count": 12,
   "id": "92256af1",
   "metadata": {},
   "outputs": [
    {
     "name": "stdout",
     "output_type": "stream",
     "text": [
      "<class 'pandas.core.frame.DataFrame'>\n",
      "RangeIndex: 686 entries, 0 to 685\n",
      "Data columns (total 12 columns):\n",
      " #   Column                        Non-Null Count  Dtype  \n",
      "---  ------                        --------------  -----  \n",
      " 0   Notes                         84 non-null     object \n",
      " 1   Multiple Cause of death       602 non-null    object \n",
      " 2   Multiple Cause of death Code  602 non-null    object \n",
      " 3   State                         602 non-null    object \n",
      " 4   State Code                    602 non-null    float64\n",
      " 5   Ten-Year Age Groups           602 non-null    object \n",
      " 6   Ten-Year Age Groups Code      602 non-null    object \n",
      " 7   Gender                        602 non-null    object \n",
      " 8   Gender Code                   602 non-null    object \n",
      " 9   Deaths                        602 non-null    float64\n",
      " 10  Population                    602 non-null    float64\n",
      " 11  Crude Rate                    602 non-null    object \n",
      "dtypes: float64(3), object(9)\n",
      "memory usage: 64.4+ KB\n"
     ]
    }
   ],
   "source": [
    "df_age.info()"
   ]
  },
  {
   "cell_type": "code",
   "execution_count": 13,
   "id": "b90942db",
   "metadata": {},
   "outputs": [
    {
     "name": "stdout",
     "output_type": "stream",
     "text": [
      "<class 'pandas.core.frame.DataFrame'>\n",
      "RangeIndex: 9121 entries, 0 to 9120\n",
      "Data columns (total 12 columns):\n",
      " #   Column                        Non-Null Count  Dtype  \n",
      "---  ------                        --------------  -----  \n",
      " 0   Notes                         82 non-null     object \n",
      " 1   Multiple Cause of death       9039 non-null   object \n",
      " 2   Multiple Cause of death Code  9039 non-null   object \n",
      " 3   Year                          9039 non-null   float64\n",
      " 4   Year Code                     9039 non-null   float64\n",
      " 5   State                         9039 non-null   object \n",
      " 6   State Code                    9039 non-null   float64\n",
      " 7   Gender                        9039 non-null   object \n",
      " 8   Gender Code                   9039 non-null   object \n",
      " 9   Deaths                        9039 non-null   float64\n",
      " 10  Population                    9039 non-null   float64\n",
      " 11  Crude Rate                    9039 non-null   object \n",
      "dtypes: float64(5), object(7)\n",
      "memory usage: 855.2+ KB\n"
     ]
    }
   ],
   "source": [
    "df_state.info()"
   ]
  },
  {
   "cell_type": "code",
   "execution_count": null,
   "id": "5b386ecc",
   "metadata": {},
   "outputs": [],
   "source": []
  }
 ],
 "metadata": {
  "kernelspec": {
   "display_name": "Python 3 (ipykernel)",
   "language": "python",
   "name": "python3"
  },
  "language_info": {
   "codemirror_mode": {
    "name": "ipython",
    "version": 3
   },
   "file_extension": ".py",
   "mimetype": "text/x-python",
   "name": "python",
   "nbconvert_exporter": "python",
   "pygments_lexer": "ipython3",
   "version": "3.9.7"
  }
 },
 "nbformat": 4,
 "nbformat_minor": 5
}
