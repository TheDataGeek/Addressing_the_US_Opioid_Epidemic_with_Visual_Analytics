{
 "cells": [
  {
   "cell_type": "code",
   "execution_count": 1,
   "id": "2843b4ab",
   "metadata": {},
   "outputs": [],
   "source": [
    "import pandas as pd\n",
    "\n",
    "df_state = pd.read_csv(\"Multiple Cause of Death, 1999-2020, by state.txt\", sep=\"\\t\")\n",
    "df_age = pd.read_csv(\"Multiple Cause of Death, 1999-2020, by age.txt\", sep=\"\\t\")"
   ]
  },
  {
   "cell_type": "code",
   "execution_count": 2,
   "id": "00f98fca",
   "metadata": {},
   "outputs": [
    {
     "name": "stdout",
     "output_type": "stream",
     "text": [
      "<class 'pandas.core.frame.DataFrame'>\n",
      "RangeIndex: 11372 entries, 0 to 11371\n",
      "Data columns (total 14 columns):\n",
      " #   Column                        Non-Null Count  Dtype  \n",
      "---  ------                        --------------  -----  \n",
      " 0   Notes                         84 non-null     object \n",
      " 1   Multiple Cause of death       11288 non-null  object \n",
      " 2   Multiple Cause of death Code  11288 non-null  object \n",
      " 3   Year                          11288 non-null  float64\n",
      " 4   Year Code                     11288 non-null  float64\n",
      " 5   State                         11288 non-null  object \n",
      " 6   State Code                    11288 non-null  float64\n",
      " 7   Gender                        11288 non-null  object \n",
      " 8   Gender Code                   11288 non-null  object \n",
      " 9   Race                          11288 non-null  object \n",
      " 10  Race Code                     11288 non-null  object \n",
      " 11  Deaths                        11288 non-null  float64\n",
      " 12  Population                    11288 non-null  float64\n",
      " 13  Crude Rate                    11288 non-null  object \n",
      "dtypes: float64(5), object(9)\n",
      "memory usage: 1.2+ MB\n"
     ]
    }
   ],
   "source": [
    "df_state.info()"
   ]
  },
  {
   "cell_type": "code",
   "execution_count": 3,
   "id": "d2b3467a",
   "metadata": {},
   "outputs": [],
   "source": [
    "df_state.drop(columns=['Notes'], inplace=True)"
   ]
  },
  {
   "cell_type": "code",
   "execution_count": 4,
   "id": "9897de41",
   "metadata": {},
   "outputs": [
    {
     "name": "stdout",
     "output_type": "stream",
     "text": [
      "<class 'pandas.core.frame.DataFrame'>\n",
      "RangeIndex: 11372 entries, 0 to 11371\n",
      "Data columns (total 13 columns):\n",
      " #   Column                        Non-Null Count  Dtype  \n",
      "---  ------                        --------------  -----  \n",
      " 0   Multiple Cause of death       11288 non-null  object \n",
      " 1   Multiple Cause of death Code  11288 non-null  object \n",
      " 2   Year                          11288 non-null  float64\n",
      " 3   Year Code                     11288 non-null  float64\n",
      " 4   State                         11288 non-null  object \n",
      " 5   State Code                    11288 non-null  float64\n",
      " 6   Gender                        11288 non-null  object \n",
      " 7   Gender Code                   11288 non-null  object \n",
      " 8   Race                          11288 non-null  object \n",
      " 9   Race Code                     11288 non-null  object \n",
      " 10  Deaths                        11288 non-null  float64\n",
      " 11  Population                    11288 non-null  float64\n",
      " 12  Crude Rate                    11288 non-null  object \n",
      "dtypes: float64(5), object(8)\n",
      "memory usage: 1.1+ MB\n"
     ]
    }
   ],
   "source": [
    "df_state.info()"
   ]
  },
  {
   "cell_type": "code",
   "execution_count": 5,
   "id": "28a2f4e4",
   "metadata": {},
   "outputs": [],
   "source": [
    "df_age.drop(columns=['Notes'], inplace=True)"
   ]
  },
  {
   "cell_type": "code",
   "execution_count": 6,
   "id": "98ddc99d",
   "metadata": {},
   "outputs": [
    {
     "name": "stdout",
     "output_type": "stream",
     "text": [
      "<class 'pandas.core.frame.DataFrame'>\n",
      "RangeIndex: 15897 entries, 0 to 15896\n",
      "Data columns (total 11 columns):\n",
      " #   Column                        Non-Null Count  Dtype  \n",
      "---  ------                        --------------  -----  \n",
      " 0   Multiple Cause of death       15815 non-null  object \n",
      " 1   Multiple Cause of death Code  15815 non-null  object \n",
      " 2   Year                          15815 non-null  float64\n",
      " 3   Year Code                     15815 non-null  float64\n",
      " 4   State                         15815 non-null  object \n",
      " 5   State Code                    15815 non-null  float64\n",
      " 6   Ten-Year Age Groups           15815 non-null  object \n",
      " 7   Ten-Year Age Groups Code      15815 non-null  object \n",
      " 8   Deaths                        15815 non-null  float64\n",
      " 9   Population                    15815 non-null  float64\n",
      " 10  Crude Rate                    15815 non-null  object \n",
      "dtypes: float64(5), object(6)\n",
      "memory usage: 1.3+ MB\n"
     ]
    }
   ],
   "source": [
    "df_age.info()"
   ]
  },
  {
   "cell_type": "code",
   "execution_count": null,
   "id": "db494fce",
   "metadata": {},
   "outputs": [],
   "source": []
  }
 ],
 "metadata": {
  "kernelspec": {
   "display_name": "Python 3 (ipykernel)",
   "language": "python",
   "name": "python3"
  },
  "language_info": {
   "codemirror_mode": {
    "name": "ipython",
    "version": 3
   },
   "file_extension": ".py",
   "mimetype": "text/x-python",
   "name": "python",
   "nbconvert_exporter": "python",
   "pygments_lexer": "ipython3",
   "version": "3.9.7"
  }
 },
 "nbformat": 4,
 "nbformat_minor": 5
}
